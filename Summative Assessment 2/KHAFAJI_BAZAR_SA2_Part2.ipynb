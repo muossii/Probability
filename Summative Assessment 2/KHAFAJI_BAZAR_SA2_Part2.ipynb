{
 "cells": [
  {
   "cell_type": "code",
   "execution_count": 16,
   "id": "9d6abf7a",
   "metadata": {},
   "outputs": [
    {
     "name": "stdout",
     "output_type": "stream",
     "text": [
      "Requirement already satisfied: scipy in c:\\users\\linds\\anaconda3\\lib\\site-packages (1.9.1)\n",
      "Requirement already satisfied: numpy<1.25.0,>=1.18.5 in c:\\users\\linds\\anaconda3\\lib\\site-packages (from scipy) (1.21.5)\n",
      "Collecting polars\n",
      "  Downloading polars-0.20.25-cp38-abi3-win_amd64.whl (27.3 MB)\n",
      "     --------------------------------------- 27.3/27.3 MB 28.5 MB/s eta 0:00:00\n",
      "Installing collected packages: polars\n",
      "Successfully installed polars-0.20.25\n"
     ]
    }
   ],
   "source": [
    "!pip install scipy\n",
    "!pip install polars"
   ]
  },
  {
   "cell_type": "code",
   "execution_count": 85,
   "id": "aff0401a",
   "metadata": {},
   "outputs": [],
   "source": [
    "import pandas as pd\n",
    "import numpy as np\n",
    "import polars as pl\n",
    "from scipy.stats import shapiro"
   ]
  },
  {
   "cell_type": "code",
   "execution_count": 118,
   "id": "760af14e",
   "metadata": {},
   "outputs": [
    {
     "name": "stdout",
     "output_type": "stream",
     "text": [
      "shape: (554_952, 7)\n",
      "┌────────────┬─────────┬─────────┬─────────┬─────────┬────────────┬────────┐\n",
      "│ timestamp  ┆ open    ┆ high    ┆ low     ┆ close   ┆ volume     ┆ return │\n",
      "│ ---        ┆ ---     ┆ ---     ┆ ---     ┆ ---     ┆ ---        ┆ ---    │\n",
      "│ i64        ┆ f64     ┆ f64     ┆ f64     ┆ f64     ┆ f64        ┆ f64    │\n",
      "╞════════════╪═════════╪═════════╪═════════╪═════════╪════════════╪════════╡\n",
      "│ 1505631900 ┆ 244.1   ┆ 245.34  ┆ 244.04  ┆ 244.58  ┆ 125.832853 ┆ 0.48   │\n",
      "│ 1507087800 ┆ 292.84  ┆ 293.28  ┆ 292.84  ┆ 293.28  ┆ 45.554642  ┆ 0.44   │\n",
      "│ 1507131300 ┆ 292.95  ┆ 292.95  ┆ 292.92  ┆ 292.94  ┆ 24.737537  ┆ -0.01  │\n",
      "│ 1503971700 ┆ 348.29  ┆ 348.29  ┆ 348.29  ┆ 348.29  ┆ 0.018749   ┆ 0.0    │\n",
      "│ 1503588900 ┆ 322.12  ┆ 322.99  ┆ 322.12  ┆ 322.9   ┆ 21.942163  ┆ 0.78   │\n",
      "│ …          ┆ …       ┆ …       ┆ …       ┆ …       ┆ …          ┆ …      │\n",
      "│ 1710975900 ┆ 3510.0  ┆ 3526.2  ┆ 3509.5  ┆ 3525.6  ┆ 30.648152  ┆ 15.6   │\n",
      "│ 1660662600 ┆ 1875.6  ┆ 1881.3  ┆ 1874.4  ┆ 1879.8  ┆ 18.514891  ┆ 4.2    │\n",
      "│ 1668677700 ┆ 1187.2  ┆ 1191.0  ┆ 1185.7  ┆ 1185.7  ┆ 22.289575  ┆ -1.5   │\n",
      "│ 1646280000 ┆ 2897.09 ┆ 2903.21 ┆ 2893.33 ┆ 2903.21 ┆ 21.91187   ┆ 6.12   │\n",
      "│ 1677226500 ┆ 1647.1  ┆ 1649.1  ┆ 1646.9  ┆ 1648.8  ┆ 17.769897  ┆ 1.7    │\n",
      "└────────────┴─────────┴─────────┴─────────┴─────────┴────────────┴────────┘\n"
     ]
    }
   ],
   "source": [
    "eth1 = pl.read_csv(\"BAZAR_KHAFAJI_ETHSD_AUG2017_APR2024.csv\", infer_schema_length=2000)\\\n",
    "    .select(pl.col(\"timestamp\"), pl.col(\"open\"), pl.col(\"high\"), pl.col(\"low\"), pl.col(\"close\"), pl.col(\"volume\"), pl.col(\"return\"))\\\n",
    "    .fill_nan(None)\\\n",
    "    .drop_nulls()\\\n",
    "\n",
    "print(eth1)\n",
    "\n",
    "#load eth1 csv file and display"
   ]
  },
  {
   "cell_type": "code",
   "execution_count": 119,
   "id": "490309ab",
   "metadata": {},
   "outputs": [
    {
     "name": "stdout",
     "output_type": "stream",
     "text": [
      "shape: (1, 1)\n",
      "┌────────────┐\n",
      "│ timestamp  │\n",
      "│ ---        │\n",
      "│ i64        │\n",
      "╞════════════╡\n",
      "│ 1502917500 │\n",
      "└────────────┘\n"
     ]
    }
   ],
   "source": [
    "mintime = eth1.select(pl.min(\"timestamp\"))\n",
    "\n",
    "print(mintime)\n",
    "\n",
    "#this is important so we can merge two csv's as eth1 runs only from 2017 and we need data from earlier dates."
   ]
  },
  {
   "cell_type": "code",
   "execution_count": 121,
   "id": "13d36343",
   "metadata": {},
   "outputs": [
    {
     "name": "stdout",
     "output_type": "stream",
     "text": [
      "shape: (1_984_012, 7)\n",
      "┌────────────────┬────────┬────────┬────────┬────────┬────────────┬────────┐\n",
      "│ Unix Timestamp ┆ Open   ┆ High   ┆ Low    ┆ Close  ┆ Volume     ┆ Return │\n",
      "│ ---            ┆ ---    ┆ ---    ┆ ---    ┆ ---    ┆ ---        ┆ ---    │\n",
      "│ i64            ┆ f64    ┆ f64    ┆ f64    ┆ f64    ┆ f64        ┆ f64    │\n",
      "╞════════════════╪════════╪════════╪════════╪════════╪════════════╪════════╡\n",
      "│ 1586995200000  ┆ 152.94 ┆ 152.94 ┆ 151.33 ┆ 151.33 ┆ 112.724931 ┆ -1.61  │\n",
      "│ 1586995140000  ┆ 152.94 ┆ 152.94 ┆ 152.94 ┆ 152.94 ┆ 0.0        ┆ 0.0    │\n",
      "│ 1586995080000  ┆ 153.17 ┆ 153.17 ┆ 152.94 ┆ 152.94 ┆ 0.013011   ┆ -0.23  │\n",
      "│ 1586995020000  ┆ 152.96 ┆ 153.2  ┆ 152.96 ┆ 153.17 ┆ 466.782278 ┆ 0.21   │\n",
      "│ 1586994960000  ┆ 153.14 ┆ 153.14 ┆ 152.96 ┆ 152.96 ┆ 167.930714 ┆ -0.18  │\n",
      "│ …              ┆ …      ┆ …      ┆ …      ┆ …      ┆ …          ┆ …      │\n",
      "│ 1462800960     ┆ 10.0   ┆ 10.0   ┆ 10.0   ┆ 10.0   ┆ 0.375      ┆ 0.0    │\n",
      "│ 1462800900     ┆ 10.0   ┆ 10.0   ┆ 10.0   ┆ 10.0   ┆ 60.0       ┆ 0.0    │\n",
      "│ 1462800840     ┆ 10.0   ┆ 10.0   ┆ 10.0   ┆ 10.0   ┆ 8.0        ┆ 0.0    │\n",
      "│ 1462800780     ┆ 12.0   ┆ 12.0   ┆ 10.0   ┆ 10.0   ┆ 43.497506  ┆ -2.0   │\n",
      "│ 1462800720     ┆ 0.0    ┆ 12.0   ┆ 0.0    ┆ 12.0   ┆ 4.156276   ┆ 12.0   │\n",
      "└────────────────┴────────┴────────┴────────┴────────┴────────────┴────────┘\n"
     ]
    }
   ],
   "source": [
    "eth2 = pl.read_csv(\"ETH_1min.csv\", infer_schema_length=2000)\\\n",
    "    .select(pl.col(\"Unix Timestamp\"), pl.col(\"Open\"), pl.col(\"High\"), pl.col(\"Low\"), pl.col(\"Close\"), pl.col(\"Volume\"))\\\n",
    "    .fill_nan(None)\\\n",
    "    .drop_nulls()\\\n",
    "    .with_columns(Return = pl.col(\"Close\")-pl.col(\"Open\"))\n",
    "\n",
    "print(eth2)\n",
    "\n",
    "#load eth2 csv and display"
   ]
  },
  {
   "cell_type": "code",
   "execution_count": 78,
   "id": "68492ed4",
   "metadata": {},
   "outputs": [
    {
     "name": "stdout",
     "output_type": "stream",
     "text": [
      "shape: (1, 1)\n",
      "┌────────────────┐\n",
      "│ Unix Timestamp │\n",
      "│ ---            │\n",
      "│ i64            │\n",
      "╞════════════════╡\n",
      "│ 1462800720     │\n",
      "└────────────────┘\n"
     ]
    }
   ],
   "source": [
    "mintime2 = eth2.select(pl.min(\"Unix Timestamp\"))\n",
    "\n",
    "print(mintime2)\n",
    "\n",
    "#this is for checking only"
   ]
  },
  {
   "cell_type": "code",
   "execution_count": 117,
   "id": "06503a79",
   "metadata": {},
   "outputs": [
    {
     "name": "stdout",
     "output_type": "stream",
     "text": [
      "shape: (668_613, 7)\n",
      "┌────────────────┬────────┬────────┬────────┬────────┬───────────┬────────┐\n",
      "│ Unix Timestamp ┆ Open   ┆ High   ┆ Low    ┆ Close  ┆ Volume    ┆ Return │\n",
      "│ ---            ┆ ---    ┆ ---    ┆ ---    ┆ ---    ┆ ---       ┆ ---    │\n",
      "│ i64            ┆ f64    ┆ f64    ┆ f64    ┆ f64    ┆ f64       ┆ f64    │\n",
      "╞════════════════╪════════╪════════╪════════╪════════╪═══════════╪════════╡\n",
      "│ 1502917440     ┆ 300.91 ┆ 300.91 ┆ 300.91 ┆ 300.91 ┆ 0.0       ┆ 0.0    │\n",
      "│ 1502917380     ┆ 300.91 ┆ 300.91 ┆ 300.91 ┆ 300.91 ┆ 0.0       ┆ 0.0    │\n",
      "│ 1502917320     ┆ 300.91 ┆ 300.91 ┆ 300.91 ┆ 300.91 ┆ 0.0       ┆ 0.0    │\n",
      "│ 1502917260     ┆ 300.91 ┆ 300.91 ┆ 300.91 ┆ 300.91 ┆ 0.0       ┆ 0.0    │\n",
      "│ 1502917200     ┆ 300.91 ┆ 300.91 ┆ 300.91 ┆ 300.91 ┆ 0.0       ┆ 0.0    │\n",
      "│ …              ┆ …      ┆ …      ┆ …      ┆ …      ┆ …         ┆ …      │\n",
      "│ 1462800960     ┆ 10.0   ┆ 10.0   ┆ 10.0   ┆ 10.0   ┆ 0.375     ┆ 0.0    │\n",
      "│ 1462800900     ┆ 10.0   ┆ 10.0   ┆ 10.0   ┆ 10.0   ┆ 60.0      ┆ 0.0    │\n",
      "│ 1462800840     ┆ 10.0   ┆ 10.0   ┆ 10.0   ┆ 10.0   ┆ 8.0       ┆ 0.0    │\n",
      "│ 1462800780     ┆ 12.0   ┆ 12.0   ┆ 10.0   ┆ 10.0   ┆ 43.497506 ┆ -2.0   │\n",
      "│ 1462800720     ┆ 0.0    ┆ 12.0   ┆ 0.0    ┆ 12.0   ┆ 4.156276  ┆ 12.0   │\n",
      "└────────────────┴────────┴────────┴────────┴────────┴───────────┴────────┘\n"
     ]
    }
   ],
   "source": [
    "filter = eth2.filter(pl.col(\"Unix Timestamp\") < mintime)\n",
    "\n",
    "print(filter)\n",
    "\n",
    "#filters out those >= mintime in eth1 becase it means its past the date we need."
   ]
  },
  {
   "cell_type": "code",
   "execution_count": 116,
   "id": "2ce8e26b",
   "metadata": {},
   "outputs": [
    {
     "name": "stdout",
     "output_type": "stream",
     "text": [
      "shape: (668_613, 7)\n",
      "┌────────────┬────────┬────────┬────────┬────────┬───────────┬────────┐\n",
      "│ timestamp  ┆ open   ┆ high   ┆ low    ┆ close  ┆ volume    ┆ return │\n",
      "│ ---        ┆ ---    ┆ ---    ┆ ---    ┆ ---    ┆ ---       ┆ ---    │\n",
      "│ i64        ┆ f64    ┆ f64    ┆ f64    ┆ f64    ┆ f64       ┆ f64    │\n",
      "╞════════════╪════════╪════════╪════════╪════════╪═══════════╪════════╡\n",
      "│ 1502917440 ┆ 300.91 ┆ 300.91 ┆ 300.91 ┆ 300.91 ┆ 0.0       ┆ 0.0    │\n",
      "│ 1502917380 ┆ 300.91 ┆ 300.91 ┆ 300.91 ┆ 300.91 ┆ 0.0       ┆ 0.0    │\n",
      "│ 1502917320 ┆ 300.91 ┆ 300.91 ┆ 300.91 ┆ 300.91 ┆ 0.0       ┆ 0.0    │\n",
      "│ 1502917260 ┆ 300.91 ┆ 300.91 ┆ 300.91 ┆ 300.91 ┆ 0.0       ┆ 0.0    │\n",
      "│ 1502917200 ┆ 300.91 ┆ 300.91 ┆ 300.91 ┆ 300.91 ┆ 0.0       ┆ 0.0    │\n",
      "│ …          ┆ …      ┆ …      ┆ …      ┆ …      ┆ …         ┆ …      │\n",
      "│ 1462800960 ┆ 10.0   ┆ 10.0   ┆ 10.0   ┆ 10.0   ┆ 0.375     ┆ 0.0    │\n",
      "│ 1462800900 ┆ 10.0   ┆ 10.0   ┆ 10.0   ┆ 10.0   ┆ 60.0      ┆ 0.0    │\n",
      "│ 1462800840 ┆ 10.0   ┆ 10.0   ┆ 10.0   ┆ 10.0   ┆ 8.0       ┆ 0.0    │\n",
      "│ 1462800780 ┆ 12.0   ┆ 12.0   ┆ 10.0   ┆ 10.0   ┆ 43.497506 ┆ -2.0   │\n",
      "│ 1462800720 ┆ 0.0    ┆ 12.0   ┆ 0.0    ┆ 12.0   ┆ 4.156276  ┆ 12.0   │\n",
      "└────────────┴────────┴────────┴────────┴────────┴───────────┴────────┘\n"
     ]
    }
   ],
   "source": [
    "neweth = eth2.filter(pl.col(\"Unix Timestamp\") < mintime).select(\n",
    "    pl.col(\"Unix Timestamp\").alias(\"timestamp\"),\n",
    "    pl.col(\"Open\").cast(pl.Float64).alias(\"open\"),\n",
    "    pl.col(\"High\").cast(pl.Float64).alias(\"high\"),\n",
    "    pl.col(\"Low\").cast(pl.Float64).alias(\"low\"),\n",
    "    pl.col(\"Close\").cast(pl.Float64).alias(\"close\"),\n",
    "    pl.col(\"Volume\").cast(pl.Float64).alias(\"volume\"),\n",
    "    pl.col(\"Return\").cast(pl.Float64).alias(\"return\")\n",
    "    )\n",
    "\n",
    "print(neweth)\n",
    "\n",
    "#for eth1 & eh2 to have the same header"
   ]
  },
  {
   "cell_type": "code",
   "execution_count": 122,
   "id": "952ec7fd",
   "metadata": {
    "scrolled": true
   },
   "outputs": [
    {
     "name": "stdout",
     "output_type": "stream",
     "text": [
      "shape: (1_223_565, 7)\n",
      "┌────────────┬────────┬────────┬────────┬────────┬────────────┬────────┐\n",
      "│ timestamp  ┆ open   ┆ high   ┆ low    ┆ close  ┆ volume     ┆ return │\n",
      "│ ---        ┆ ---    ┆ ---    ┆ ---    ┆ ---    ┆ ---        ┆ ---    │\n",
      "│ i64        ┆ f64    ┆ f64    ┆ f64    ┆ f64    ┆ f64        ┆ f64    │\n",
      "╞════════════╪════════╪════════╪════════╪════════╪════════════╪════════╡\n",
      "│ 1505631900 ┆ 244.1  ┆ 245.34 ┆ 244.04 ┆ 244.58 ┆ 125.832853 ┆ 0.48   │\n",
      "│ 1507087800 ┆ 292.84 ┆ 293.28 ┆ 292.84 ┆ 293.28 ┆ 45.554642  ┆ 0.44   │\n",
      "│ 1507131300 ┆ 292.95 ┆ 292.95 ┆ 292.92 ┆ 292.94 ┆ 24.737537  ┆ -0.01  │\n",
      "│ 1503971700 ┆ 348.29 ┆ 348.29 ┆ 348.29 ┆ 348.29 ┆ 0.018749   ┆ 0.0    │\n",
      "│ 1503588900 ┆ 322.12 ┆ 322.99 ┆ 322.12 ┆ 322.9  ┆ 21.942163  ┆ 0.78   │\n",
      "│ …          ┆ …      ┆ …      ┆ …      ┆ …      ┆ …          ┆ …      │\n",
      "│ 1462800960 ┆ 10.0   ┆ 10.0   ┆ 10.0   ┆ 10.0   ┆ 0.375      ┆ 0.0    │\n",
      "│ 1462800900 ┆ 10.0   ┆ 10.0   ┆ 10.0   ┆ 10.0   ┆ 60.0       ┆ 0.0    │\n",
      "│ 1462800840 ┆ 10.0   ┆ 10.0   ┆ 10.0   ┆ 10.0   ┆ 8.0        ┆ 0.0    │\n",
      "│ 1462800780 ┆ 12.0   ┆ 12.0   ┆ 10.0   ┆ 10.0   ┆ 43.497506  ┆ -2.0   │\n",
      "│ 1462800720 ┆ 0.0    ┆ 12.0   ┆ 0.0    ┆ 12.0   ┆ 4.156276   ┆ 12.0   │\n",
      "└────────────┴────────┴────────┴────────┴────────┴────────────┴────────┘\n"
     ]
    }
   ],
   "source": [
    "ethcombined = pl.concat([eth1, neweth])\n",
    "\n",
    "print(ethcombined)\n",
    "\n",
    "#combine the two csv's "
   ]
  },
  {
   "cell_type": "code",
   "execution_count": 114,
   "id": "00abcbeb",
   "metadata": {},
   "outputs": [
    {
     "name": "stdout",
     "output_type": "stream",
     "text": [
      "Shapiro-Wilk Test: 0.4246952533721924\n",
      "P-value: 0.0\n",
      "Reject null hypothesis: Data is not normally distributed\n"
     ]
    }
   ],
   "source": [
    "ethreturns = ethcombined.select(\"return\")\n",
    "\n",
    "print(\"Shapiro-Wilk Test:\", statistic)\n",
    "print(\"P-value:\", p_value)\n",
    "\n",
    "statistic, p_value = shapiro(np.squeeze(ethreturns.to_numpy() ) )\n",
    "\n",
    "alpha = 0.05\n",
    "if p_value < alpha:\n",
    "    print(\"Reject null hypothesis: Data is not normally distributed\")\n",
    "else:\n",
    "    print(\"Fail to reject null hypothesis: Data may be normally distributed\")"
   ]
  }
 ],
 "metadata": {
  "kernelspec": {
   "display_name": "Python 3 (ipykernel)",
   "language": "python",
   "name": "python3"
  },
  "language_info": {
   "codemirror_mode": {
    "name": "ipython",
    "version": 3
   },
   "file_extension": ".py",
   "mimetype": "text/x-python",
   "name": "python",
   "nbconvert_exporter": "python",
   "pygments_lexer": "ipython3",
   "version": "3.9.13"
  }
 },
 "nbformat": 4,
 "nbformat_minor": 5
}
